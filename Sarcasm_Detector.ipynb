{
 "cells": [
  {
   "cell_type": "code",
   "execution_count": 1,
   "id": "a374340d-fb96-4643-b09e-4467e108a019",
   "metadata": {},
   "outputs": [],
   "source": [
    "import pandas as pd\n",
    "import numpy as np\n",
    "from sklearn.feature_extraction.text import CountVectorizer\n",
    "from sklearn.model_selection import train_test_split\n",
    "from sklearn.naive_bayes import MultinomialNB\n",
    "from sklearn.metrics import accuracy_score\n",
    "from sklearn.metrics import classification_report\n",
    "from sklearn.metrics import f1_score\n",
    "from sklearn.metrics import roc_auc_score"
   ]
  },
  {
   "cell_type": "code",
   "execution_count": 2,
   "id": "eb8b4b3c-7637-40f4-8756-cbdb4af84e37",
   "metadata": {},
   "outputs": [],
   "source": [
    "pd.set_option('max_colwidth', 100)"
   ]
  },
  {
   "cell_type": "code",
   "execution_count": 3,
   "id": "e670ae13-8aa1-49e7-b3dd-075ea6676bc9",
   "metadata": {},
   "outputs": [
    {
     "data": {
      "text/html": [
       "<div>\n",
       "<style scoped>\n",
       "    .dataframe tbody tr th:only-of-type {\n",
       "        vertical-align: middle;\n",
       "    }\n",
       "\n",
       "    .dataframe tbody tr th {\n",
       "        vertical-align: top;\n",
       "    }\n",
       "\n",
       "    .dataframe thead th {\n",
       "        text-align: right;\n",
       "    }\n",
       "</style>\n",
       "<table border=\"1\" class=\"dataframe\">\n",
       "  <thead>\n",
       "    <tr style=\"text-align: right;\">\n",
       "      <th></th>\n",
       "      <th>is_sarcastic</th>\n",
       "      <th>text</th>\n",
       "      <th>article_link</th>\n",
       "    </tr>\n",
       "  </thead>\n",
       "  <tbody>\n",
       "    <tr>\n",
       "      <th>0</th>\n",
       "      <td>1</td>\n",
       "      <td>thirtysomething scientists unveil doomsday clock of hair loss</td>\n",
       "      <td>https://www.theonion.com/thirtysomething-scientists-unveil-doomsday-clock-of-hai-1819586205</td>\n",
       "    </tr>\n",
       "    <tr>\n",
       "      <th>1</th>\n",
       "      <td>0</td>\n",
       "      <td>dem rep. totally nails why congress is falling short on gender, racial equality</td>\n",
       "      <td>https://www.huffingtonpost.com/entry/donna-edwards-inequality_us_57455f7fe4b055bb1170b207</td>\n",
       "    </tr>\n",
       "    <tr>\n",
       "      <th>2</th>\n",
       "      <td>0</td>\n",
       "      <td>eat your veggies: 9 deliciously different recipes</td>\n",
       "      <td>https://www.huffingtonpost.com/entry/eat-your-veggies-9-delici_b_8899742.html</td>\n",
       "    </tr>\n",
       "    <tr>\n",
       "      <th>3</th>\n",
       "      <td>1</td>\n",
       "      <td>inclement weather prevents liar from getting to work</td>\n",
       "      <td>https://local.theonion.com/inclement-weather-prevents-liar-from-getting-to-work-1819576031</td>\n",
       "    </tr>\n",
       "    <tr>\n",
       "      <th>4</th>\n",
       "      <td>1</td>\n",
       "      <td>mother comes pretty close to using word 'streaming' correctly</td>\n",
       "      <td>https://www.theonion.com/mother-comes-pretty-close-to-using-word-streaming-cor-1819575546</td>\n",
       "    </tr>\n",
       "  </tbody>\n",
       "</table>\n",
       "</div>"
      ],
      "text/plain": [
       "   is_sarcastic  \\\n",
       "0             1   \n",
       "1             0   \n",
       "2             0   \n",
       "3             1   \n",
       "4             1   \n",
       "\n",
       "                                                                              text  \\\n",
       "0                    thirtysomething scientists unveil doomsday clock of hair loss   \n",
       "1  dem rep. totally nails why congress is falling short on gender, racial equality   \n",
       "2                                eat your veggies: 9 deliciously different recipes   \n",
       "3                             inclement weather prevents liar from getting to work   \n",
       "4                    mother comes pretty close to using word 'streaming' correctly   \n",
       "\n",
       "                                                                                  article_link  \n",
       "0  https://www.theonion.com/thirtysomething-scientists-unveil-doomsday-clock-of-hai-1819586205  \n",
       "1    https://www.huffingtonpost.com/entry/donna-edwards-inequality_us_57455f7fe4b055bb1170b207  \n",
       "2                https://www.huffingtonpost.com/entry/eat-your-veggies-9-delici_b_8899742.html  \n",
       "3   https://local.theonion.com/inclement-weather-prevents-liar-from-getting-to-work-1819576031  \n",
       "4    https://www.theonion.com/mother-comes-pretty-close-to-using-word-streaming-cor-1819575546  "
      ]
     },
     "execution_count": 3,
     "metadata": {},
     "output_type": "execute_result"
    }
   ],
   "source": [
    "# Load dataset\n",
    "df =  pd.read_json('Sarcasm_Headlines_Dataset_v2.json', lines=True)\n",
    "df.rename(columns={'headline': 'text'}, inplace=True)\n",
    "df.head()"
   ]
  },
  {
   "cell_type": "code",
   "execution_count": 4,
   "id": "f64700bb-42a2-4f85-b74b-9a91e9d5e1d0",
   "metadata": {},
   "outputs": [
    {
     "data": {
      "text/plain": [
       "(28619, 3)"
      ]
     },
     "execution_count": 4,
     "metadata": {},
     "output_type": "execute_result"
    }
   ],
   "source": [
    "df.shape"
   ]
  },
  {
   "cell_type": "code",
   "execution_count": 5,
   "id": "24be0ca4-8af7-4456-b56a-52a5e878911a",
   "metadata": {},
   "outputs": [
    {
     "data": {
      "text/plain": [
       "0    14985\n",
       "1    13634\n",
       "Name: is_sarcastic, dtype: int64"
      ]
     },
     "execution_count": 5,
     "metadata": {},
     "output_type": "execute_result"
    }
   ],
   "source": [
    "df['is_sarcastic'].value_counts()"
   ]
  },
  {
   "cell_type": "code",
   "execution_count": 6,
   "id": "f168ae1f-914e-4a25-ade6-806572b0bf48",
   "metadata": {},
   "outputs": [
    {
     "data": {
      "text/html": [
       "<div>\n",
       "<style scoped>\n",
       "    .dataframe tbody tr th:only-of-type {\n",
       "        vertical-align: middle;\n",
       "    }\n",
       "\n",
       "    .dataframe tbody tr th {\n",
       "        vertical-align: top;\n",
       "    }\n",
       "\n",
       "    .dataframe thead th {\n",
       "        text-align: right;\n",
       "    }\n",
       "</style>\n",
       "<table border=\"1\" class=\"dataframe\">\n",
       "  <thead>\n",
       "    <tr style=\"text-align: right;\">\n",
       "      <th></th>\n",
       "      <th>text</th>\n",
       "    </tr>\n",
       "  </thead>\n",
       "  <tbody>\n",
       "    <tr>\n",
       "      <th>1</th>\n",
       "      <td>dem rep. totally nails why congress is falling short on gender, racial equality</td>\n",
       "    </tr>\n",
       "    <tr>\n",
       "      <th>2</th>\n",
       "      <td>eat your veggies: 9 deliciously different recipes</td>\n",
       "    </tr>\n",
       "    <tr>\n",
       "      <th>5</th>\n",
       "      <td>my white inheritance</td>\n",
       "    </tr>\n",
       "    <tr>\n",
       "      <th>6</th>\n",
       "      <td>5 ways to file your taxes with less stress</td>\n",
       "    </tr>\n",
       "    <tr>\n",
       "      <th>9</th>\n",
       "      <td>lots of parents know this scenario</td>\n",
       "    </tr>\n",
       "    <tr>\n",
       "      <th>10</th>\n",
       "      <td>this lesbian is considered a father in indiana (and an amazing one at that)</td>\n",
       "    </tr>\n",
       "    <tr>\n",
       "      <th>11</th>\n",
       "      <td>amanda peet told her daughter sex is 'a special hug'</td>\n",
       "    </tr>\n",
       "    <tr>\n",
       "      <th>12</th>\n",
       "      <td>what to know regarding current treatments for ebola</td>\n",
       "    </tr>\n",
       "    <tr>\n",
       "      <th>13</th>\n",
       "      <td>chris christie suggests hillary clinton was to blame for boko haram's kidnapping of hundreds of ...</td>\n",
       "    </tr>\n",
       "    <tr>\n",
       "      <th>15</th>\n",
       "      <td>uber ceo travis kalanick stepping down from trump economic advisory council</td>\n",
       "    </tr>\n",
       "  </tbody>\n",
       "</table>\n",
       "</div>"
      ],
      "text/plain": [
       "                                                                                                   text\n",
       "1                       dem rep. totally nails why congress is falling short on gender, racial equality\n",
       "2                                                     eat your veggies: 9 deliciously different recipes\n",
       "5                                                                                  my white inheritance\n",
       "6                                                            5 ways to file your taxes with less stress\n",
       "9                                                                    lots of parents know this scenario\n",
       "10                          this lesbian is considered a father in indiana (and an amazing one at that)\n",
       "11                                                 amanda peet told her daughter sex is 'a special hug'\n",
       "12                                                  what to know regarding current treatments for ebola\n",
       "13  chris christie suggests hillary clinton was to blame for boko haram's kidnapping of hundreds of ...\n",
       "15                          uber ceo travis kalanick stepping down from trump economic advisory council"
      ]
     },
     "execution_count": 6,
     "metadata": {},
     "output_type": "execute_result"
    }
   ],
   "source": [
    "df_unsacarstic = df[df['is_sarcastic']==0].head(10)\n",
    "df_unsacarstic[['text']]"
   ]
  },
  {
   "cell_type": "code",
   "execution_count": 7,
   "id": "b906f576-419d-4438-aca0-245e18752a95",
   "metadata": {},
   "outputs": [
    {
     "data": {
      "text/html": [
       "<div>\n",
       "<style scoped>\n",
       "    .dataframe tbody tr th:only-of-type {\n",
       "        vertical-align: middle;\n",
       "    }\n",
       "\n",
       "    .dataframe tbody tr th {\n",
       "        vertical-align: top;\n",
       "    }\n",
       "\n",
       "    .dataframe thead th {\n",
       "        text-align: right;\n",
       "    }\n",
       "</style>\n",
       "<table border=\"1\" class=\"dataframe\">\n",
       "  <thead>\n",
       "    <tr style=\"text-align: right;\">\n",
       "      <th></th>\n",
       "      <th>text</th>\n",
       "    </tr>\n",
       "  </thead>\n",
       "  <tbody>\n",
       "    <tr>\n",
       "      <th>0</th>\n",
       "      <td>thirtysomething scientists unveil doomsday clock of hair loss</td>\n",
       "    </tr>\n",
       "    <tr>\n",
       "      <th>3</th>\n",
       "      <td>inclement weather prevents liar from getting to work</td>\n",
       "    </tr>\n",
       "    <tr>\n",
       "      <th>4</th>\n",
       "      <td>mother comes pretty close to using word 'streaming' correctly</td>\n",
       "    </tr>\n",
       "    <tr>\n",
       "      <th>7</th>\n",
       "      <td>richard branson's global-warming donation nearly as much as cost of failed balloon trips</td>\n",
       "    </tr>\n",
       "    <tr>\n",
       "      <th>8</th>\n",
       "      <td>shadow government getting too large to meet in marriott conference room b</td>\n",
       "    </tr>\n",
       "    <tr>\n",
       "      <th>14</th>\n",
       "      <td>ford develops new suv that runs purely on gasoline</td>\n",
       "    </tr>\n",
       "    <tr>\n",
       "      <th>16</th>\n",
       "      <td>area boy enters jumping-and-touching-tops-of-doorways phase</td>\n",
       "    </tr>\n",
       "    <tr>\n",
       "      <th>17</th>\n",
       "      <td>area man does most of his traveling by gurney</td>\n",
       "    </tr>\n",
       "    <tr>\n",
       "      <th>21</th>\n",
       "      <td>guard in video game under strict orders to repeatedly pace same stretch of hallway</td>\n",
       "    </tr>\n",
       "    <tr>\n",
       "      <th>25</th>\n",
       "      <td>secret service agent not so secret about being david alan grier fan</td>\n",
       "    </tr>\n",
       "  </tbody>\n",
       "</table>\n",
       "</div>"
      ],
      "text/plain": [
       "                                                                                        text\n",
       "0                              thirtysomething scientists unveil doomsday clock of hair loss\n",
       "3                                       inclement weather prevents liar from getting to work\n",
       "4                              mother comes pretty close to using word 'streaming' correctly\n",
       "7   richard branson's global-warming donation nearly as much as cost of failed balloon trips\n",
       "8                  shadow government getting too large to meet in marriott conference room b\n",
       "14                                        ford develops new suv that runs purely on gasoline\n",
       "16                               area boy enters jumping-and-touching-tops-of-doorways phase\n",
       "17                                             area man does most of his traveling by gurney\n",
       "21        guard in video game under strict orders to repeatedly pace same stretch of hallway\n",
       "25                       secret service agent not so secret about being david alan grier fan"
      ]
     },
     "execution_count": 7,
     "metadata": {},
     "output_type": "execute_result"
    }
   ],
   "source": [
    "df_sarcastic = df[df['is_sarcastic']==1].head(10)\n",
    "df_sarcastic[['text']]"
   ]
  },
  {
   "cell_type": "code",
   "execution_count": 8,
   "id": "bfc267d3-1229-4629-8de5-38fe39dab504",
   "metadata": {},
   "outputs": [],
   "source": [
    "# Feature endineering\n",
    "df['text'] = df['text'].replace('!', ' exclamation ')\n",
    "df['text'] = df['text'].replace('?', ' question ')\n",
    "df['text'] = df['text'].replace('\\'', ' quotation ')\n",
    "df['text'] = df['text'].replace('\\\"', ' quotation ')"
   ]
  },
  {
   "cell_type": "code",
   "execution_count": 9,
   "id": "c365a7b6-f7e6-46ad-816b-3c5ffa656da1",
   "metadata": {},
   "outputs": [],
   "source": [
    "# Create a bag of words\n",
    "count_vec = CountVectorizer()\n",
    "bow = count_vec.fit_transform(df['text'])\n",
    "bow = np.array(bow.todense())"
   ]
  },
  {
   "cell_type": "code",
   "execution_count": 10,
   "id": "331dfe68-2d1e-46b7-872b-7dfa1b93b968",
   "metadata": {},
   "outputs": [],
   "source": [
    "X = bow\n",
    "y = df['is_sarcastic']"
   ]
  },
  {
   "cell_type": "code",
   "execution_count": 12,
   "id": "1167b4b9-50c4-41e5-8aa1-457a51b932fa",
   "metadata": {},
   "outputs": [],
   "source": [
    "X_train, X_test, y_train, y_test = train_test_split(X, y, \n",
    "                                                    test_size=0.3, \n",
    "                                                    stratify=y)"
   ]
  },
  {
   "cell_type": "code",
   "execution_count": 13,
   "id": "7f4c5006-5232-45ec-8976-10823347b1ca",
   "metadata": {},
   "outputs": [],
   "source": [
    "model = MultinomialNB().fit(X_train, y_train)\n",
    "y_pred = model.predict(X_test)"
   ]
  },
  {
   "cell_type": "code",
   "execution_count": 14,
   "id": "1ef24e4d-32f7-4429-9383-4fb65f6a9895",
   "metadata": {},
   "outputs": [
    {
     "name": "stdout",
     "output_type": "stream",
     "text": [
      "Accuracy: 0.8490566037735849\n",
      "F1 score: 0.8484836155777133\n",
      "ROC AUC: 0.8480449342637629\n"
     ]
    }
   ],
   "source": [
    "# Checking accuracy of our model\n",
    "print('Accuracy:', accuracy_score(y_test, y_pred))\n",
    "print('F1 score:', f1_score(y_test, y_pred, average=\"macro\"))\n",
    "print('ROC AUC:', roc_auc_score(y_test, y_pred))"
   ]
  },
  {
   "cell_type": "code",
   "execution_count": 15,
   "id": "ed745d1d-70b7-40f8-b8bc-76ba4759cb26",
   "metadata": {},
   "outputs": [
    {
     "name": "stdout",
     "output_type": "stream",
     "text": [
      "              precision    recall  f1-score   support\n",
      "\n",
      "           0       0.85      0.87      0.86      4496\n",
      "           1       0.85      0.83      0.84      4090\n",
      "\n",
      "    accuracy                           0.85      8586\n",
      "   macro avg       0.85      0.85      0.85      8586\n",
      "weighted avg       0.85      0.85      0.85      8586\n",
      "\n"
     ]
    }
   ],
   "source": [
    "print(classification_report(y_test, y_pred))"
   ]
  },
  {
   "cell_type": "markdown",
   "id": "92dbd4a9-d481-4e9f-9a2b-90f3f6672bb5",
   "metadata": {},
   "source": [
    "Now we can check where our model went wrong"
   ]
  },
  {
   "cell_type": "code",
   "execution_count": 16,
   "id": "d869dbe2-8f6f-481f-b1c2-1a59e1c93bcc",
   "metadata": {},
   "outputs": [],
   "source": [
    "results = pd.DataFrame(data={'predicted': y_pred, 'actual': y_test})\n",
    "predictions = results.join(df)"
   ]
  },
  {
   "cell_type": "code",
   "execution_count": 17,
   "id": "7aff180c-fffc-4b15-805d-8fd0160a1a4f",
   "metadata": {},
   "outputs": [],
   "source": [
    "def is_correct(predicted, actual):\n",
    "    if predicted == actual:\n",
    "        return True\n",
    "    else:\n",
    "        return False"
   ]
  },
  {
   "cell_type": "code",
   "execution_count": 18,
   "id": "633cb14a-c6fd-4442-9b32-bce0c23ba4c3",
   "metadata": {},
   "outputs": [],
   "source": [
    "predictions['correct'] = predictions.apply(lambda x: is_correct(x.predicted, x.actual), axis=1)\n",
    "predictions = predictions[['text','predicted','actual','correct']]"
   ]
  },
  {
   "cell_type": "code",
   "execution_count": 19,
   "id": "f4ef2854-4a10-4d8c-a35f-20122c92d56c",
   "metadata": {},
   "outputs": [
    {
     "data": {
      "text/html": [
       "<div>\n",
       "<style scoped>\n",
       "    .dataframe tbody tr th:only-of-type {\n",
       "        vertical-align: middle;\n",
       "    }\n",
       "\n",
       "    .dataframe tbody tr th {\n",
       "        vertical-align: top;\n",
       "    }\n",
       "\n",
       "    .dataframe thead th {\n",
       "        text-align: right;\n",
       "    }\n",
       "</style>\n",
       "<table border=\"1\" class=\"dataframe\">\n",
       "  <thead>\n",
       "    <tr style=\"text-align: right;\">\n",
       "      <th></th>\n",
       "      <th>text</th>\n",
       "      <th>predicted</th>\n",
       "      <th>actual</th>\n",
       "      <th>correct</th>\n",
       "    </tr>\n",
       "  </thead>\n",
       "  <tbody>\n",
       "    <tr>\n",
       "      <th>22329</th>\n",
       "      <td>florida passes strict ban on being unarmed</td>\n",
       "      <td>0</td>\n",
       "      <td>1</td>\n",
       "      <td>False</td>\n",
       "    </tr>\n",
       "    <tr>\n",
       "      <th>11147</th>\n",
       "      <td>new epa chief proposes 30% cut in all carbon-based organisms</td>\n",
       "      <td>0</td>\n",
       "      <td>1</td>\n",
       "      <td>False</td>\n",
       "    </tr>\n",
       "    <tr>\n",
       "      <th>20395</th>\n",
       "      <td>random online photo leads to navy veteran's rescue from flooded house</td>\n",
       "      <td>1</td>\n",
       "      <td>0</td>\n",
       "      <td>False</td>\n",
       "    </tr>\n",
       "    <tr>\n",
       "      <th>1743</th>\n",
       "      <td>'syrians' lives are worthless,' obama tells daughters before kissing them goodnight</td>\n",
       "      <td>0</td>\n",
       "      <td>1</td>\n",
       "      <td>False</td>\n",
       "    </tr>\n",
       "    <tr>\n",
       "      <th>20499</th>\n",
       "      <td>the world's oldest living cat has died</td>\n",
       "      <td>1</td>\n",
       "      <td>0</td>\n",
       "      <td>False</td>\n",
       "    </tr>\n",
       "    <tr>\n",
       "      <th>3553</th>\n",
       "      <td>house conservatives introduce resolution to impale rod rosenstein</td>\n",
       "      <td>0</td>\n",
       "      <td>1</td>\n",
       "      <td>False</td>\n",
       "    </tr>\n",
       "    <tr>\n",
       "      <th>24039</th>\n",
       "      <td>light beer healthiest food option at stadium</td>\n",
       "      <td>0</td>\n",
       "      <td>1</td>\n",
       "      <td>False</td>\n",
       "    </tr>\n",
       "    <tr>\n",
       "      <th>5096</th>\n",
       "      <td>12-year-old says she's desperate to stop the hitting, screaming, fighting with mom</td>\n",
       "      <td>1</td>\n",
       "      <td>0</td>\n",
       "      <td>False</td>\n",
       "    </tr>\n",
       "    <tr>\n",
       "      <th>4251</th>\n",
       "      <td>company encourages women who have been sexually harassed to come forward with resignation letter</td>\n",
       "      <td>0</td>\n",
       "      <td>1</td>\n",
       "      <td>False</td>\n",
       "    </tr>\n",
       "    <tr>\n",
       "      <th>4688</th>\n",
       "      <td>roy moore on pedophilia accusers: 'these women are only discrediting me now because shifting soc...</td>\n",
       "      <td>0</td>\n",
       "      <td>1</td>\n",
       "      <td>False</td>\n",
       "    </tr>\n",
       "  </tbody>\n",
       "</table>\n",
       "</div>"
      ],
      "text/plain": [
       "                                                                                                      text  \\\n",
       "22329                                                           florida passes strict ban on being unarmed   \n",
       "11147                                         new epa chief proposes 30% cut in all carbon-based organisms   \n",
       "20395                                random online photo leads to navy veteran's rescue from flooded house   \n",
       "1743                   'syrians' lives are worthless,' obama tells daughters before kissing them goodnight   \n",
       "20499                                                               the world's oldest living cat has died   \n",
       "3553                                     house conservatives introduce resolution to impale rod rosenstein   \n",
       "24039                                                         light beer healthiest food option at stadium   \n",
       "5096                    12-year-old says she's desperate to stop the hitting, screaming, fighting with mom   \n",
       "4251      company encourages women who have been sexually harassed to come forward with resignation letter   \n",
       "4688   roy moore on pedophilia accusers: 'these women are only discrediting me now because shifting soc...   \n",
       "\n",
       "       predicted  actual  correct  \n",
       "22329          0       1    False  \n",
       "11147          0       1    False  \n",
       "20395          1       0    False  \n",
       "1743           0       1    False  \n",
       "20499          1       0    False  \n",
       "3553           0       1    False  \n",
       "24039          0       1    False  \n",
       "5096           1       0    False  \n",
       "4251           0       1    False  \n",
       "4688           0       1    False  "
      ]
     },
     "execution_count": 19,
     "metadata": {},
     "output_type": "execute_result"
    }
   ],
   "source": [
    "predictions[predictions['correct']==False].sample(10)"
   ]
  },
  {
   "cell_type": "code",
   "execution_count": 20,
   "id": "25973b41-0c4f-4f58-b5ae-c51b1ff83101",
   "metadata": {},
   "outputs": [],
   "source": [
    "# Saving our model \n",
    "import pickle"
   ]
  },
  {
   "cell_type": "code",
   "execution_count": 21,
   "id": "60642a09-23d3-490a-ab2f-07666f408c76",
   "metadata": {},
   "outputs": [],
   "source": [
    "pickle.dump(model, open('model.pkl','wb'))"
   ]
  },
  {
   "cell_type": "code",
   "execution_count": 22,
   "id": "932554db-42c1-4c46-90e2-cbb8f0b66a1d",
   "metadata": {},
   "outputs": [],
   "source": [
    "pickle.dump(count_vec, open('cv_transform.pkl','wb'))"
   ]
  },
  {
   "cell_type": "code",
   "execution_count": null,
   "id": "6487246f-9cab-452c-b414-4de94280abe6",
   "metadata": {},
   "outputs": [],
   "source": []
  }
 ],
 "metadata": {
  "kernelspec": {
   "display_name": "Python 3 (ipykernel)",
   "language": "python",
   "name": "python3"
  },
  "language_info": {
   "codemirror_mode": {
    "name": "ipython",
    "version": 3
   },
   "file_extension": ".py",
   "mimetype": "text/x-python",
   "name": "python",
   "nbconvert_exporter": "python",
   "pygments_lexer": "ipython3",
   "version": "3.9.12"
  }
 },
 "nbformat": 4,
 "nbformat_minor": 5
}
